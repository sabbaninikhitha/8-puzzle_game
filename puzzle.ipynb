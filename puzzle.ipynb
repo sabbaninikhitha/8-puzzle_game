{
  "nbformat": 4,
  "nbformat_minor": 0,
  "metadata": {
    "colab": {
      "provenance": [],
      "authorship_tag": "ABX9TyMUYszUMzUcSzNZYGm4hP7G",
      "include_colab_link": true
    },
    "kernelspec": {
      "name": "python3",
      "display_name": "Python 3"
    },
    "language_info": {
      "name": "python"
    }
  },
  "cells": [
    {
      "cell_type": "markdown",
      "metadata": {
        "id": "view-in-github",
        "colab_type": "text"
      },
      "source": [
        "<a href=\"https://colab.research.google.com/github/sabbaninikhitha/8-puzzle_game/blob/main/puzzle.ipynb\" target=\"_parent\"><img src=\"https://colab.research.google.com/assets/colab-badge.svg\" alt=\"Open In Colab\"/></a>"
      ]
    },
    {
      "cell_type": "code",
      "source": [
        "import random #for generating random no.s(input)\n",
        "import copy #creates deep copies of puzzle state\n",
        "\n",
        "# Define the output state of the 8-puzzle\n",
        "goal_state = [[1, 2, 3],\n",
        "              [4, 5, 6],\n",
        "              [7, 8, 0]]\n",
        "\n",
        "# Define the possible moves (up, down, left, right)\n",
        "moves = [(0, -1), (0, 1), (-1, 0), (1, 0)]\n",
        "\n",
        "def print_puzzle(state):\n",
        "    for row in state:\n",
        "        print(' '.join(map(str, row)))\n",
        "    print(\"\\n\")\n",
        "\n",
        "def generate_initial_state():\n",
        "    # Generate a random initial state\n",
        "    initial_state = copy.deepcopy(goal_state)\n",
        "    for _ in range(100):  # Shuffle the puzzle 100 times\n",
        "        row, col = get_blank_position(initial_state)\n",
        "        possible_moves = [(r, c) for r, c in moves if 0 <= row + r < 3 and 0 <= col + c < 3]\n",
        "        move = random.choice(possible_moves)\n",
        "        initial_state[row][col], initial_state[row + move[0]][col + move[1]] = initial_state[row + move[0]][col + move[1]], initial_state[row][col]\n",
        "    return initial_state\n",
        "\n",
        "def get_blank_position(state):\n",
        "    for i in range(3):\n",
        "        for j in range(3):\n",
        "            if state[i][j] == 0:\n",
        "                return i, j\n",
        "\n",
        "def is_goal_state(state):\n",
        "    return state == goal_state\n",
        "\n",
        "def calculate_manhattan_distance(state):\n",
        "    # Calculate the Manhattan distance heuristic\n",
        "    distance = 0\n",
        "    for i in range(3):\n",
        "        for j in range(3):\n",
        "            if state[i][j] != 0:\n",
        "                goal_row, goal_col = divmod(state[i][j] - 1, 3)\n",
        "                distance += abs(i - goal_row) + abs(j - goal_col)\n",
        "    return distance\n",
        "\n",
        "def hill_climbing(initial_state):\n",
        "    current_state = initial_state\n",
        "    current_distance = calculate_manhattan_distance(initial_state)\n",
        "\n",
        "    while not is_goal_state(current_state):\n",
        "        neighbors = []\n",
        "        for move in moves:\n",
        "            row, col = get_blank_position(current_state)\n",
        "            new_row, new_col = row + move[0], col + move[1]\n",
        "            if 0 <= new_row < 3 and 0 <= new_col < 3:\n",
        "                neighbor_state = copy.deepcopy(current_state)\n",
        "                neighbor_state[row][col], neighbor_state[new_row][new_col] = neighbor_state[new_row][new_col], neighbor_state[row][col]\n",
        "                neighbors.append(neighbor_state)\n",
        "\n",
        "        best_neighbor = min(neighbors, key=calculate_manhattan_distance)\n",
        "        best_distance = calculate_manhattan_distance(best_neighbor)\n",
        "\n",
        "        if best_distance >= current_distance:\n",
        "            current_state = generate_initial_state()\n",
        "            current_distance = calculate_manhattan_distance(current_state)\n",
        "        else:\n",
        "            current_state = best_neighbor\n",
        "            current_distance = best_distance\n",
        "\n",
        "        print_puzzle(current_state)\n",
        "\n",
        "if __name__ == \"__main__\":\n",
        "    initial_state = generate_initial_state()\n",
        "    print(\"Initial State:\")\n",
        "    print_puzzle(initial_state)\n",
        "    hill_climbing(initial_state)"
      ],
      "metadata": {
        "colab": {
          "base_uri": "https://localhost:8080/"
        },
        "id": "2NiISmkMxPRU",
        "outputId": "d57d4842-4e72-47f0-dadb-b2a36f4aaea0"
      },
      "execution_count": null,
      "outputs": [
        {
          "output_type": "stream",
          "name": "stdout",
          "text": [
            "Initial State:\n",
            "0 1 3\n",
            "8 2 5\n",
            "4 7 6\n",
            "\n",
            "\n",
            "1 0 3\n",
            "8 2 5\n",
            "4 7 6\n",
            "\n",
            "\n",
            "1 2 3\n",
            "8 0 5\n",
            "4 7 6\n",
            "\n",
            "\n",
            "1 2 3\n",
            "0 8 5\n",
            "4 7 6\n",
            "\n",
            "\n",
            "1 2 3\n",
            "4 8 5\n",
            "0 7 6\n",
            "\n",
            "\n",
            "1 2 3\n",
            "4 8 5\n",
            "7 0 6\n",
            "\n",
            "\n",
            "1 2 3\n",
            "4 0 5\n",
            "7 8 6\n",
            "\n",
            "\n",
            "1 2 3\n",
            "4 5 0\n",
            "7 8 6\n",
            "\n",
            "\n",
            "1 2 3\n",
            "4 5 6\n",
            "7 8 0\n",
            "\n",
            "\n"
          ]
        }
      ]
    },
    {
      "cell_type": "code",
      "source": [],
      "metadata": {
        "id": "9cdKDddtyJyD"
      },
      "execution_count": null,
      "outputs": []
    }
  ]
}